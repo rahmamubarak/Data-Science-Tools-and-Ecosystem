{
 "cells": [
  {
   "cell_type": "markdown",
   "id": "2a6d5fc6",
   "metadata": {},
   "source": [
    "# Data Science Tools and Ecosystem"
   ]
  },
  {
   "cell_type": "markdown",
   "id": "792253be",
   "metadata": {},
   "source": [
    "In this notebook, Data Science Tools and Ecosystem are summerized"
   ]
  },
  {
   "cell_type": "markdown",
   "id": "17311dbf",
   "metadata": {},
   "source": [
    "Data science languages :  \n",
    "1. python.\n",
    "2. R.\n",
    "3. SQL.\n",
    "4. Java.\n",
    "5. Julia."
   ]
  },
  {
   "cell_type": "markdown",
   "id": "0b7b8431",
   "metadata": {},
   "source": [
    "Commonly used libraries by data scientists : \n",
    "1. pandas.\n",
    "2. NumPy.\n",
    "3. scikit-learn.\n",
    "4. Tensorflow.\n",
    "5. matplotlib."
   ]
  },
  {
   "cell_type": "markdown",
   "id": "cb929b16",
   "metadata": {},
   "source": [
    "|Data Science Tools|\n",
    "|---|\n",
    "|Jupyter Notebook|\n",
    "|RStudio|\n",
    "|spyder|\n",
    "|Anaconda Navigator|\n",
    "|VS|"
   ]
  },
  {
   "cell_type": "markdown",
   "id": "9f0a2bea",
   "metadata": {},
   "source": [
    "Arithmetic expression introduction"
   ]
  },
  {
   "cell_type": "code",
   "execution_count": 4,
   "id": "f4b3b02f",
   "metadata": {},
   "outputs": [
    {
     "data": {
      "text/plain": [
       "17"
      ]
     },
     "execution_count": 4,
     "metadata": {},
     "output_type": "execute_result"
    }
   ],
   "source": [
    "z = (3*4)+5\n",
    "eval('z')"
   ]
  },
  {
   "cell_type": "code",
   "execution_count": 5,
   "id": "97a7ecc3",
   "metadata": {},
   "outputs": [
    {
     "name": "stdout",
     "output_type": "stream",
     "text": [
      "Enter time in minutes : 120\n",
      "Time in hours = \n",
      "2.0\n",
      "h\n"
     ]
    }
   ],
   "source": [
    "TimeInMinutes = input('Enter time in minutes : ')\n",
    "print('Time in hours = ')\n",
    "print(int(TimeInMinutes)/60)\n",
    "print('h')"
   ]
  },
  {
   "cell_type": "markdown",
   "id": "6cdb28f6",
   "metadata": {},
   "source": [
    "Objectives :\n",
    "1. List commonly used languages for Data Science.\n",
    "2. Discuss commonly used libraries in Data Science.\n",
    "3. Show tools used in the Data Science and ecosystem.\n",
    "4. Provide examples of arithmetic expressions in Python."
   ]
  },
  {
   "cell_type": "markdown",
   "id": "003038b1",
   "metadata": {},
   "source": [
    "Author :\n",
    " Rahma Mubarak."
   ]
  }
 ],
 "metadata": {
  "kernelspec": {
   "display_name": "Python 3",
   "language": "python",
   "name": "python3"
  },
  "language_info": {
   "codemirror_mode": {
    "name": "ipython",
    "version": 3
   },
   "file_extension": ".py",
   "mimetype": "text/x-python",
   "name": "python",
   "nbconvert_exporter": "python",
   "pygments_lexer": "ipython3",
   "version": "3.8.8"
  }
 },
 "nbformat": 4,
 "nbformat_minor": 5
}
